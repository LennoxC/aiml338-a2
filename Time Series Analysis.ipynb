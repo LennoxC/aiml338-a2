{
 "cells": [
  {
   "metadata": {},
   "cell_type": "markdown",
   "source": [
    "# AIML338, Time Series Analysis\n",
    "### Lennox Crowe | Assignment 2\n",
    "\n",
    "https://arxiv.org/pdf/2408.16187"
   ],
   "id": "f16c493a7bfcf825"
  },
  {
   "metadata": {},
   "cell_type": "markdown",
   "source": [
    "### Task 0: Data exploration (NZEP)\n",
    "**Objective:** Visualise selected segments of the data to observe and understand its characteristics.\n",
    "**Output:** A concise analysis of the NZEP dataset to facilitate its use in the remainder of the assignment.\n",
    "\n",
    "POCs (Point Of Connection): WWD1102, WWD1103\n"
   ],
   "id": "491f834077ec65f7"
  },
  {
   "metadata": {
    "ExecuteTime": {
     "end_time": "2025-09-01T23:37:07.877035Z",
     "start_time": "2025-09-01T23:37:07.846732Z"
    }
   },
   "cell_type": "code",
   "source": [
    "from dataset_generation import get_electricityprice_data\n",
    "from datetime import date, datetime\n",
    "import pandas as pd\n",
    "import pytz"
   ],
   "id": "957f3d382ccd47c3",
   "outputs": [],
   "execution_count": 188
  },
  {
   "metadata": {},
   "cell_type": "markdown",
   "source": "I wrote a function in `dataset_generation.py` which retrieves all data within a date range for a set of PointOfConnection ids. The dataset is cached after it is downloaded once. For this EDA, I am going to focus on the last year of data at the makara wind farm.",
   "id": "614325918d7a9561"
  },
  {
   "metadata": {
    "ExecuteTime": {
     "end_time": "2025-09-01T23:37:08.420436Z",
     "start_time": "2025-09-01T23:37:07.992754Z"
    }
   },
   "cell_type": "code",
   "source": "df_raw = get_electricityprice_data(start_date = date(2024, 8, 10), end_date = date(2025, 8, 10), poc=[\"WWD1102\", \"WWD1103\"])",
   "id": "dd161e2aaa9c793c",
   "outputs": [],
   "execution_count": 189
  },
  {
   "metadata": {},
   "cell_type": "markdown",
   "source": "Check that the data has been loaded:",
   "id": "290b26dc7907ee11"
  },
  {
   "metadata": {
    "ExecuteTime": {
     "end_time": "2025-09-01T23:37:08.463016Z",
     "start_time": "2025-09-01T23:37:08.427763Z"
    }
   },
   "cell_type": "code",
   "source": "df_raw.head()",
   "id": "e5d097874c283a5a",
   "outputs": [
    {
     "data": {
      "text/plain": [
       "  TradingDate  TradingPeriod                PublishDateTime PointOfConnection  \\\n",
       "0  2024-08-10              1  2024-08-10T00:00:00.000+12:00           WWD1102   \n",
       "1  2024-08-10              1  2024-08-10T00:00:00.000+12:00           WWD1103   \n",
       "2  2024-08-10              1  2024-08-10T00:04:42.000+12:00           WWD1102   \n",
       "3  2024-08-10              1  2024-08-10T00:04:42.000+12:00           WWD1103   \n",
       "4  2024-08-10              1  2024-08-10T00:09:33.000+12:00           WWD1102   \n",
       "\n",
       "  Island IsProxyPriceFlag  DollarsPerMegawattHour  \n",
       "0     NI                N                  834.55  \n",
       "1     NI                N                  834.55  \n",
       "2     NI                N                  831.84  \n",
       "3     NI                N                  831.84  \n",
       "4     NI                N                  833.55  "
      ],
      "text/html": [
       "<div>\n",
       "<style scoped>\n",
       "    .dataframe tbody tr th:only-of-type {\n",
       "        vertical-align: middle;\n",
       "    }\n",
       "\n",
       "    .dataframe tbody tr th {\n",
       "        vertical-align: top;\n",
       "    }\n",
       "\n",
       "    .dataframe thead th {\n",
       "        text-align: right;\n",
       "    }\n",
       "</style>\n",
       "<table border=\"1\" class=\"dataframe\">\n",
       "  <thead>\n",
       "    <tr style=\"text-align: right;\">\n",
       "      <th></th>\n",
       "      <th>TradingDate</th>\n",
       "      <th>TradingPeriod</th>\n",
       "      <th>PublishDateTime</th>\n",
       "      <th>PointOfConnection</th>\n",
       "      <th>Island</th>\n",
       "      <th>IsProxyPriceFlag</th>\n",
       "      <th>DollarsPerMegawattHour</th>\n",
       "    </tr>\n",
       "  </thead>\n",
       "  <tbody>\n",
       "    <tr>\n",
       "      <th>0</th>\n",
       "      <td>2024-08-10</td>\n",
       "      <td>1</td>\n",
       "      <td>2024-08-10T00:00:00.000+12:00</td>\n",
       "      <td>WWD1102</td>\n",
       "      <td>NI</td>\n",
       "      <td>N</td>\n",
       "      <td>834.55</td>\n",
       "    </tr>\n",
       "    <tr>\n",
       "      <th>1</th>\n",
       "      <td>2024-08-10</td>\n",
       "      <td>1</td>\n",
       "      <td>2024-08-10T00:00:00.000+12:00</td>\n",
       "      <td>WWD1103</td>\n",
       "      <td>NI</td>\n",
       "      <td>N</td>\n",
       "      <td>834.55</td>\n",
       "    </tr>\n",
       "    <tr>\n",
       "      <th>2</th>\n",
       "      <td>2024-08-10</td>\n",
       "      <td>1</td>\n",
       "      <td>2024-08-10T00:04:42.000+12:00</td>\n",
       "      <td>WWD1102</td>\n",
       "      <td>NI</td>\n",
       "      <td>N</td>\n",
       "      <td>831.84</td>\n",
       "    </tr>\n",
       "    <tr>\n",
       "      <th>3</th>\n",
       "      <td>2024-08-10</td>\n",
       "      <td>1</td>\n",
       "      <td>2024-08-10T00:04:42.000+12:00</td>\n",
       "      <td>WWD1103</td>\n",
       "      <td>NI</td>\n",
       "      <td>N</td>\n",
       "      <td>831.84</td>\n",
       "    </tr>\n",
       "    <tr>\n",
       "      <th>4</th>\n",
       "      <td>2024-08-10</td>\n",
       "      <td>1</td>\n",
       "      <td>2024-08-10T00:09:33.000+12:00</td>\n",
       "      <td>WWD1102</td>\n",
       "      <td>NI</td>\n",
       "      <td>N</td>\n",
       "      <td>833.55</td>\n",
       "    </tr>\n",
       "  </tbody>\n",
       "</table>\n",
       "</div>"
      ]
     },
     "execution_count": 190,
     "metadata": {},
     "output_type": "execute_result"
    }
   ],
   "execution_count": 190
  },
  {
   "metadata": {
    "ExecuteTime": {
     "end_time": "2025-09-01T23:37:08.652048Z",
     "start_time": "2025-09-01T23:37:08.616478Z"
    }
   },
   "cell_type": "code",
   "source": [
    "data_start = df_raw[\"PublishDateTime\"].min()\n",
    "data_end = df_raw[\"PublishDateTime\"].max()\n",
    "\n",
    "print(\"Minimum timestamp: \" + str(data_start))\n",
    "print(\"Maximum timestamp: \" + str(data_end))"
   ],
   "id": "b242b0480dd09c93",
   "outputs": [
    {
     "name": "stdout",
     "output_type": "stream",
     "text": [
      "Minimum timestamp: 2024-08-10T00:00:00.000+12:00\n",
      "Maximum timestamp: 2025-08-10T23:54:31.000+12:00\n"
     ]
    }
   ],
   "execution_count": 191
  },
  {
   "metadata": {},
   "cell_type": "markdown",
   "source": "The publish date time will need to be converted to a datetime object.",
   "id": "f64e3a9eb21e2452"
  },
  {
   "metadata": {
    "ExecuteTime": {
     "end_time": "2025-09-01T23:37:09.660964Z",
     "start_time": "2025-09-01T23:37:08.739015Z"
    }
   },
   "cell_type": "code",
   "source": "df_raw[\"time\"] = (pd.to_datetime(df_raw[\"PublishDateTime\"], utc=True))",
   "id": "bad5c2b5f125a692",
   "outputs": [],
   "execution_count": 192
  },
  {
   "metadata": {
    "ExecuteTime": {
     "end_time": "2025-09-01T23:37:09.675401Z",
     "start_time": "2025-09-01T23:37:09.664551Z"
    }
   },
   "cell_type": "code",
   "source": "import matplotlib.pyplot as plt",
   "id": "1f6825414421327b",
   "outputs": [],
   "execution_count": 193
  },
  {
   "metadata": {
    "ExecuteTime": {
     "end_time": "2025-09-01T23:37:09.852078Z",
     "start_time": "2025-09-01T23:37:09.735399Z"
    }
   },
   "cell_type": "code",
   "source": [
    "df_makara_1 = df_raw[df_raw[\"PointOfConnection\"] == \"WWD1102\"]\n",
    "df_makara_2 = df_raw[df_raw[\"PointOfConnection\"] == \"WWD1103\"]"
   ],
   "id": "b6c87b4ceb765f44",
   "outputs": [],
   "execution_count": 194
  },
  {
   "metadata": {},
   "cell_type": "markdown",
   "source": [
    "## Feature Engineering\n",
    "\n",
    "Wind data has been obtained from NIWA: https://data.niwa.co.nz/products/climate-station-hourly/map?bounds=172.16674804687503%2C-42.5854442573849%2C177.791748046875%2C-40.21244071828647\n",
    "\n",
    "This is from Baring head - the closest weather station with wind data for the required time period. It is worth noting that baring head is at sea level, and on the other side of the wellington harbour compared to the wind farm. However, it can be assumed that there is strong correlation between windspeed at Baring head, and wind speed at Makara.\n",
    "\n",
    "Wind speed may affect wholesale energy price at Makara, as increased windspeed will result in higher energy supply.\n",
    "\n",
    "I also downloaded a rainfall dataset from NIWA, recorded at Mt Cook village. This will have an impact on the hydro-lake levels, which are one of the major energy sources in New Zealand"
   ],
   "id": "290fec78315cc17f"
  },
  {
   "metadata": {
    "ExecuteTime": {
     "end_time": "2025-09-01T23:37:10.291668Z",
     "start_time": "2025-09-01T23:37:09.918418Z"
    }
   },
   "cell_type": "code",
   "source": [
    "wind_df = pd.read_csv(\"./data/wind.csv\")\n",
    "rain_df = pd.read_csv(\"./data/rain.csv\")"
   ],
   "id": "49ff60872dd84387",
   "outputs": [],
   "execution_count": 195
  },
  {
   "metadata": {
    "ExecuteTime": {
     "end_time": "2025-09-01T23:37:10.362109Z",
     "start_time": "2025-09-01T23:37:10.348958Z"
    }
   },
   "cell_type": "code",
   "source": "wind_df.head()",
   "id": "2eba58953c6a116",
   "outputs": [
    {
     "data": {
      "text/plain": [
       "  Frequency [D/H]  Observation time UTC Data Source  Direction [deg T]  \\\n",
       "0               H  1991-03-28T03:00:00Z           H              355.0   \n",
       "1               H  1991-03-28T04:00:00Z           H                2.0   \n",
       "2               H  1991-03-28T05:00:00Z           H              357.0   \n",
       "3               H  1991-03-28T06:00:00Z           H                8.0   \n",
       "4               H  1991-03-28T07:00:00Z           H               13.0   \n",
       "\n",
       "   PERIOD [hrs]  Speed [m/s]  \n",
       "0           1.0         10.9  \n",
       "1           1.0         10.2  \n",
       "2           1.0         10.4  \n",
       "3           1.0          9.3  \n",
       "4           1.0          9.1  "
      ],
      "text/html": [
       "<div>\n",
       "<style scoped>\n",
       "    .dataframe tbody tr th:only-of-type {\n",
       "        vertical-align: middle;\n",
       "    }\n",
       "\n",
       "    .dataframe tbody tr th {\n",
       "        vertical-align: top;\n",
       "    }\n",
       "\n",
       "    .dataframe thead th {\n",
       "        text-align: right;\n",
       "    }\n",
       "</style>\n",
       "<table border=\"1\" class=\"dataframe\">\n",
       "  <thead>\n",
       "    <tr style=\"text-align: right;\">\n",
       "      <th></th>\n",
       "      <th>Frequency [D/H]</th>\n",
       "      <th>Observation time UTC</th>\n",
       "      <th>Data Source</th>\n",
       "      <th>Direction [deg T]</th>\n",
       "      <th>PERIOD [hrs]</th>\n",
       "      <th>Speed [m/s]</th>\n",
       "    </tr>\n",
       "  </thead>\n",
       "  <tbody>\n",
       "    <tr>\n",
       "      <th>0</th>\n",
       "      <td>H</td>\n",
       "      <td>1991-03-28T03:00:00Z</td>\n",
       "      <td>H</td>\n",
       "      <td>355.0</td>\n",
       "      <td>1.0</td>\n",
       "      <td>10.9</td>\n",
       "    </tr>\n",
       "    <tr>\n",
       "      <th>1</th>\n",
       "      <td>H</td>\n",
       "      <td>1991-03-28T04:00:00Z</td>\n",
       "      <td>H</td>\n",
       "      <td>2.0</td>\n",
       "      <td>1.0</td>\n",
       "      <td>10.2</td>\n",
       "    </tr>\n",
       "    <tr>\n",
       "      <th>2</th>\n",
       "      <td>H</td>\n",
       "      <td>1991-03-28T05:00:00Z</td>\n",
       "      <td>H</td>\n",
       "      <td>357.0</td>\n",
       "      <td>1.0</td>\n",
       "      <td>10.4</td>\n",
       "    </tr>\n",
       "    <tr>\n",
       "      <th>3</th>\n",
       "      <td>H</td>\n",
       "      <td>1991-03-28T06:00:00Z</td>\n",
       "      <td>H</td>\n",
       "      <td>8.0</td>\n",
       "      <td>1.0</td>\n",
       "      <td>9.3</td>\n",
       "    </tr>\n",
       "    <tr>\n",
       "      <th>4</th>\n",
       "      <td>H</td>\n",
       "      <td>1991-03-28T07:00:00Z</td>\n",
       "      <td>H</td>\n",
       "      <td>13.0</td>\n",
       "      <td>1.0</td>\n",
       "      <td>9.1</td>\n",
       "    </tr>\n",
       "  </tbody>\n",
       "</table>\n",
       "</div>"
      ]
     },
     "execution_count": 196,
     "metadata": {},
     "output_type": "execute_result"
    }
   ],
   "execution_count": 196
  },
  {
   "metadata": {
    "ExecuteTime": {
     "end_time": "2025-09-01T23:37:10.481705Z",
     "start_time": "2025-09-01T23:37:10.469936Z"
    }
   },
   "cell_type": "code",
   "source": "rain_df.head()",
   "id": "12f8027593bfe38f",
   "outputs": [
    {
     "data": {
      "text/plain": [
       "  Frequency [D/H]  Observation time UTC Data Source (rainfall)  Rainfall [mm]  \\\n",
       "0               S  2016-03-02T05:00:00Z                      S            0.0   \n",
       "1               S  2016-03-02T11:00:00Z                      S            0.0   \n",
       "2               S  2016-03-02T17:00:00Z                      S            0.0   \n",
       "3               S  2016-03-02T23:00:00Z                      S            0.0   \n",
       "4               S  2016-03-03T05:00:00Z                      S            0.0   \n",
       "\n",
       "   PERIOD [hrs]  Deficit [mm]  Runoff [mm]  Data source (water balance)  \n",
       "0             6           NaN          NaN                          NaN  \n",
       "1             6           NaN          NaN                          NaN  \n",
       "2             6           NaN          NaN                          NaN  \n",
       "3             6           NaN          NaN                          NaN  \n",
       "4             6           NaN          NaN                          NaN  "
      ],
      "text/html": [
       "<div>\n",
       "<style scoped>\n",
       "    .dataframe tbody tr th:only-of-type {\n",
       "        vertical-align: middle;\n",
       "    }\n",
       "\n",
       "    .dataframe tbody tr th {\n",
       "        vertical-align: top;\n",
       "    }\n",
       "\n",
       "    .dataframe thead th {\n",
       "        text-align: right;\n",
       "    }\n",
       "</style>\n",
       "<table border=\"1\" class=\"dataframe\">\n",
       "  <thead>\n",
       "    <tr style=\"text-align: right;\">\n",
       "      <th></th>\n",
       "      <th>Frequency [D/H]</th>\n",
       "      <th>Observation time UTC</th>\n",
       "      <th>Data Source (rainfall)</th>\n",
       "      <th>Rainfall [mm]</th>\n",
       "      <th>PERIOD [hrs]</th>\n",
       "      <th>Deficit [mm]</th>\n",
       "      <th>Runoff [mm]</th>\n",
       "      <th>Data source (water balance)</th>\n",
       "    </tr>\n",
       "  </thead>\n",
       "  <tbody>\n",
       "    <tr>\n",
       "      <th>0</th>\n",
       "      <td>S</td>\n",
       "      <td>2016-03-02T05:00:00Z</td>\n",
       "      <td>S</td>\n",
       "      <td>0.0</td>\n",
       "      <td>6</td>\n",
       "      <td>NaN</td>\n",
       "      <td>NaN</td>\n",
       "      <td>NaN</td>\n",
       "    </tr>\n",
       "    <tr>\n",
       "      <th>1</th>\n",
       "      <td>S</td>\n",
       "      <td>2016-03-02T11:00:00Z</td>\n",
       "      <td>S</td>\n",
       "      <td>0.0</td>\n",
       "      <td>6</td>\n",
       "      <td>NaN</td>\n",
       "      <td>NaN</td>\n",
       "      <td>NaN</td>\n",
       "    </tr>\n",
       "    <tr>\n",
       "      <th>2</th>\n",
       "      <td>S</td>\n",
       "      <td>2016-03-02T17:00:00Z</td>\n",
       "      <td>S</td>\n",
       "      <td>0.0</td>\n",
       "      <td>6</td>\n",
       "      <td>NaN</td>\n",
       "      <td>NaN</td>\n",
       "      <td>NaN</td>\n",
       "    </tr>\n",
       "    <tr>\n",
       "      <th>3</th>\n",
       "      <td>S</td>\n",
       "      <td>2016-03-02T23:00:00Z</td>\n",
       "      <td>S</td>\n",
       "      <td>0.0</td>\n",
       "      <td>6</td>\n",
       "      <td>NaN</td>\n",
       "      <td>NaN</td>\n",
       "      <td>NaN</td>\n",
       "    </tr>\n",
       "    <tr>\n",
       "      <th>4</th>\n",
       "      <td>S</td>\n",
       "      <td>2016-03-03T05:00:00Z</td>\n",
       "      <td>S</td>\n",
       "      <td>0.0</td>\n",
       "      <td>6</td>\n",
       "      <td>NaN</td>\n",
       "      <td>NaN</td>\n",
       "      <td>NaN</td>\n",
       "    </tr>\n",
       "  </tbody>\n",
       "</table>\n",
       "</div>"
      ]
     },
     "execution_count": 197,
     "metadata": {},
     "output_type": "execute_result"
    }
   ],
   "execution_count": 197
  },
  {
   "metadata": {
    "ExecuteTime": {
     "end_time": "2025-09-01T23:37:11.082419Z",
     "start_time": "2025-09-01T23:37:10.583411Z"
    }
   },
   "cell_type": "code",
   "source": [
    "rain_df[\"Observation time UTC\"] = pd.to_datetime(rain_df[\"Observation time UTC\"])\n",
    "wind_df[\"Observation time UTC\"] = pd.to_datetime(wind_df[\"Observation time UTC\"])"
   ],
   "id": "49139b724efe4711",
   "outputs": [],
   "execution_count": 198
  },
  {
   "metadata": {
    "ExecuteTime": {
     "end_time": "2025-09-01T23:37:11.131942Z",
     "start_time": "2025-09-01T23:37:11.121848Z"
    }
   },
   "cell_type": "code",
   "source": [
    "rain_df[\"Observation Start\"] = rain_df[\"Observation time UTC\"].shift(1)\n",
    "wind_df[\"Observation Start\"] = wind_df[\"Observation time UTC\"].shift(1)"
   ],
   "id": "7a00359c04f03ec7",
   "outputs": [],
   "execution_count": 199
  },
  {
   "metadata": {
    "ExecuteTime": {
     "end_time": "2025-09-01T23:37:11.204380Z",
     "start_time": "2025-09-01T23:37:11.140874Z"
    }
   },
   "cell_type": "code",
   "source": [
    "rain_df_filter = rain_df[rain_df['Frequency [D/H]'] == \"S\"] # this appears to be collected every six hours, at 5am/pm and 11am/pm\n",
    "wind_df_filter = wind_df[wind_df['Frequency [D/H]'] == \"H\"]"
   ],
   "id": "c0a25d786fe565b5",
   "outputs": [],
   "execution_count": 200
  },
  {
   "metadata": {
    "ExecuteTime": {
     "end_time": "2025-09-01T23:37:11.316475Z",
     "start_time": "2025-09-01T23:37:11.281388Z"
    }
   },
   "cell_type": "code",
   "source": "wind_df_filter.head()",
   "id": "9139820671a498c0",
   "outputs": [
    {
     "data": {
      "text/plain": [
       "  Frequency [D/H]      Observation time UTC Data Source  Direction [deg T]  \\\n",
       "0               H 1991-03-28 03:00:00+00:00           H              355.0   \n",
       "1               H 1991-03-28 04:00:00+00:00           H                2.0   \n",
       "2               H 1991-03-28 05:00:00+00:00           H              357.0   \n",
       "3               H 1991-03-28 06:00:00+00:00           H                8.0   \n",
       "4               H 1991-03-28 07:00:00+00:00           H               13.0   \n",
       "\n",
       "   PERIOD [hrs]  Speed [m/s]         Observation Start  \n",
       "0           1.0         10.9                       NaT  \n",
       "1           1.0         10.2 1991-03-28 03:00:00+00:00  \n",
       "2           1.0         10.4 1991-03-28 04:00:00+00:00  \n",
       "3           1.0          9.3 1991-03-28 05:00:00+00:00  \n",
       "4           1.0          9.1 1991-03-28 06:00:00+00:00  "
      ],
      "text/html": [
       "<div>\n",
       "<style scoped>\n",
       "    .dataframe tbody tr th:only-of-type {\n",
       "        vertical-align: middle;\n",
       "    }\n",
       "\n",
       "    .dataframe tbody tr th {\n",
       "        vertical-align: top;\n",
       "    }\n",
       "\n",
       "    .dataframe thead th {\n",
       "        text-align: right;\n",
       "    }\n",
       "</style>\n",
       "<table border=\"1\" class=\"dataframe\">\n",
       "  <thead>\n",
       "    <tr style=\"text-align: right;\">\n",
       "      <th></th>\n",
       "      <th>Frequency [D/H]</th>\n",
       "      <th>Observation time UTC</th>\n",
       "      <th>Data Source</th>\n",
       "      <th>Direction [deg T]</th>\n",
       "      <th>PERIOD [hrs]</th>\n",
       "      <th>Speed [m/s]</th>\n",
       "      <th>Observation Start</th>\n",
       "    </tr>\n",
       "  </thead>\n",
       "  <tbody>\n",
       "    <tr>\n",
       "      <th>0</th>\n",
       "      <td>H</td>\n",
       "      <td>1991-03-28 03:00:00+00:00</td>\n",
       "      <td>H</td>\n",
       "      <td>355.0</td>\n",
       "      <td>1.0</td>\n",
       "      <td>10.9</td>\n",
       "      <td>NaT</td>\n",
       "    </tr>\n",
       "    <tr>\n",
       "      <th>1</th>\n",
       "      <td>H</td>\n",
       "      <td>1991-03-28 04:00:00+00:00</td>\n",
       "      <td>H</td>\n",
       "      <td>2.0</td>\n",
       "      <td>1.0</td>\n",
       "      <td>10.2</td>\n",
       "      <td>1991-03-28 03:00:00+00:00</td>\n",
       "    </tr>\n",
       "    <tr>\n",
       "      <th>2</th>\n",
       "      <td>H</td>\n",
       "      <td>1991-03-28 05:00:00+00:00</td>\n",
       "      <td>H</td>\n",
       "      <td>357.0</td>\n",
       "      <td>1.0</td>\n",
       "      <td>10.4</td>\n",
       "      <td>1991-03-28 04:00:00+00:00</td>\n",
       "    </tr>\n",
       "    <tr>\n",
       "      <th>3</th>\n",
       "      <td>H</td>\n",
       "      <td>1991-03-28 06:00:00+00:00</td>\n",
       "      <td>H</td>\n",
       "      <td>8.0</td>\n",
       "      <td>1.0</td>\n",
       "      <td>9.3</td>\n",
       "      <td>1991-03-28 05:00:00+00:00</td>\n",
       "    </tr>\n",
       "    <tr>\n",
       "      <th>4</th>\n",
       "      <td>H</td>\n",
       "      <td>1991-03-28 07:00:00+00:00</td>\n",
       "      <td>H</td>\n",
       "      <td>13.0</td>\n",
       "      <td>1.0</td>\n",
       "      <td>9.1</td>\n",
       "      <td>1991-03-28 06:00:00+00:00</td>\n",
       "    </tr>\n",
       "  </tbody>\n",
       "</table>\n",
       "</div>"
      ]
     },
     "execution_count": 201,
     "metadata": {},
     "output_type": "execute_result"
    }
   ],
   "execution_count": 201
  },
  {
   "metadata": {
    "ExecuteTime": {
     "end_time": "2025-09-01T23:37:11.421027Z",
     "start_time": "2025-09-01T23:37:11.407137Z"
    }
   },
   "cell_type": "code",
   "source": "rain_df_filter.head()",
   "id": "8aecbc140bd4dc77",
   "outputs": [
    {
     "data": {
      "text/plain": [
       "  Frequency [D/H]      Observation time UTC Data Source (rainfall)  \\\n",
       "0               S 2016-03-02 05:00:00+00:00                      S   \n",
       "1               S 2016-03-02 11:00:00+00:00                      S   \n",
       "2               S 2016-03-02 17:00:00+00:00                      S   \n",
       "3               S 2016-03-02 23:00:00+00:00                      S   \n",
       "4               S 2016-03-03 05:00:00+00:00                      S   \n",
       "\n",
       "   Rainfall [mm]  PERIOD [hrs]  Deficit [mm]  Runoff [mm]  \\\n",
       "0            0.0             6           NaN          NaN   \n",
       "1            0.0             6           NaN          NaN   \n",
       "2            0.0             6           NaN          NaN   \n",
       "3            0.0             6           NaN          NaN   \n",
       "4            0.0             6           NaN          NaN   \n",
       "\n",
       "   Data source (water balance)         Observation Start  \n",
       "0                          NaN                       NaT  \n",
       "1                          NaN 2016-03-02 05:00:00+00:00  \n",
       "2                          NaN 2016-03-02 11:00:00+00:00  \n",
       "3                          NaN 2016-03-02 17:00:00+00:00  \n",
       "4                          NaN 2016-03-02 23:00:00+00:00  "
      ],
      "text/html": [
       "<div>\n",
       "<style scoped>\n",
       "    .dataframe tbody tr th:only-of-type {\n",
       "        vertical-align: middle;\n",
       "    }\n",
       "\n",
       "    .dataframe tbody tr th {\n",
       "        vertical-align: top;\n",
       "    }\n",
       "\n",
       "    .dataframe thead th {\n",
       "        text-align: right;\n",
       "    }\n",
       "</style>\n",
       "<table border=\"1\" class=\"dataframe\">\n",
       "  <thead>\n",
       "    <tr style=\"text-align: right;\">\n",
       "      <th></th>\n",
       "      <th>Frequency [D/H]</th>\n",
       "      <th>Observation time UTC</th>\n",
       "      <th>Data Source (rainfall)</th>\n",
       "      <th>Rainfall [mm]</th>\n",
       "      <th>PERIOD [hrs]</th>\n",
       "      <th>Deficit [mm]</th>\n",
       "      <th>Runoff [mm]</th>\n",
       "      <th>Data source (water balance)</th>\n",
       "      <th>Observation Start</th>\n",
       "    </tr>\n",
       "  </thead>\n",
       "  <tbody>\n",
       "    <tr>\n",
       "      <th>0</th>\n",
       "      <td>S</td>\n",
       "      <td>2016-03-02 05:00:00+00:00</td>\n",
       "      <td>S</td>\n",
       "      <td>0.0</td>\n",
       "      <td>6</td>\n",
       "      <td>NaN</td>\n",
       "      <td>NaN</td>\n",
       "      <td>NaN</td>\n",
       "      <td>NaT</td>\n",
       "    </tr>\n",
       "    <tr>\n",
       "      <th>1</th>\n",
       "      <td>S</td>\n",
       "      <td>2016-03-02 11:00:00+00:00</td>\n",
       "      <td>S</td>\n",
       "      <td>0.0</td>\n",
       "      <td>6</td>\n",
       "      <td>NaN</td>\n",
       "      <td>NaN</td>\n",
       "      <td>NaN</td>\n",
       "      <td>2016-03-02 05:00:00+00:00</td>\n",
       "    </tr>\n",
       "    <tr>\n",
       "      <th>2</th>\n",
       "      <td>S</td>\n",
       "      <td>2016-03-02 17:00:00+00:00</td>\n",
       "      <td>S</td>\n",
       "      <td>0.0</td>\n",
       "      <td>6</td>\n",
       "      <td>NaN</td>\n",
       "      <td>NaN</td>\n",
       "      <td>NaN</td>\n",
       "      <td>2016-03-02 11:00:00+00:00</td>\n",
       "    </tr>\n",
       "    <tr>\n",
       "      <th>3</th>\n",
       "      <td>S</td>\n",
       "      <td>2016-03-02 23:00:00+00:00</td>\n",
       "      <td>S</td>\n",
       "      <td>0.0</td>\n",
       "      <td>6</td>\n",
       "      <td>NaN</td>\n",
       "      <td>NaN</td>\n",
       "      <td>NaN</td>\n",
       "      <td>2016-03-02 17:00:00+00:00</td>\n",
       "    </tr>\n",
       "    <tr>\n",
       "      <th>4</th>\n",
       "      <td>S</td>\n",
       "      <td>2016-03-03 05:00:00+00:00</td>\n",
       "      <td>S</td>\n",
       "      <td>0.0</td>\n",
       "      <td>6</td>\n",
       "      <td>NaN</td>\n",
       "      <td>NaN</td>\n",
       "      <td>NaN</td>\n",
       "      <td>2016-03-02 23:00:00+00:00</td>\n",
       "    </tr>\n",
       "  </tbody>\n",
       "</table>\n",
       "</div>"
      ]
     },
     "execution_count": 202,
     "metadata": {},
     "output_type": "execute_result"
    }
   ],
   "execution_count": 202
  },
  {
   "metadata": {},
   "cell_type": "markdown",
   "source": "I am going to compute a column \"rolling cumulative rainfall past 6 months\" for the rainfall dataset, to represent the previous rainfall conditions.",
   "id": "16f56979ffa92f62"
  },
  {
   "metadata": {
    "ExecuteTime": {
     "end_time": "2025-09-01T23:37:11.546150Z",
     "start_time": "2025-09-01T23:37:11.518645Z"
    }
   },
   "cell_type": "code",
   "source": "rain_df_filter[\"Cumulative Rainfall\"] = rain_df_filter[\"Rainfall [mm]\"].rolling(window=4*7*21).sum()",
   "id": "18beaf2f35fdbce2",
   "outputs": [],
   "execution_count": 203
  },
  {
   "metadata": {
    "ExecuteTime": {
     "end_time": "2025-09-01T23:37:11.657894Z",
     "start_time": "2025-09-01T23:37:11.647568Z"
    }
   },
   "cell_type": "code",
   "source": [
    "rain_df_filter = rain_df_filter[[\"Observation time UTC\", \"Observation Start\", \"Rainfall [mm]\", \"Cumulative Rainfall\"]]\n",
    "wind_df_filter = wind_df_filter[[\"Observation time UTC\", \"Observation Start\", \"Speed [m/s]\"]]"
   ],
   "id": "c260068ca246ee51",
   "outputs": [],
   "execution_count": 204
  },
  {
   "metadata": {
    "ExecuteTime": {
     "end_time": "2025-09-01T23:37:11.796517Z",
     "start_time": "2025-09-01T23:37:11.759925Z"
    }
   },
   "cell_type": "code",
   "source": [
    "wind_na_rm = wind_df_filter.dropna()\n",
    "rain_na_rm = rain_df_filter.dropna()"
   ],
   "id": "6277c84fbb53e3e6",
   "outputs": [],
   "execution_count": 205
  },
  {
   "metadata": {
    "ExecuteTime": {
     "end_time": "2025-09-01T23:37:11.824163Z",
     "start_time": "2025-09-01T23:37:11.805712Z"
    }
   },
   "cell_type": "code",
   "source": [
    "rain_na_rm.rename({\"Observation time UTC\": \"end\", \"Observation Start\": \"start\", \"Rainfall [mm]\": \"rain\", \"Cumulative Rainfall\": \"rain_cumulative\"}, axis=1, inplace=True)\n",
    "wind_na_rm.rename({\"Observation time UTC\": \"end\", \"Observation Start\": \"start\", \"Speed [m/s]\": \"speed\"}, axis=1, inplace=True)"
   ],
   "id": "52b7e7d325864841",
   "outputs": [
    {
     "name": "stderr",
     "output_type": "stream",
     "text": [
      "C:\\Users\\lenno\\AppData\\Local\\Temp\\ipykernel_13652\\3030993979.py:1: SettingWithCopyWarning: \n",
      "A value is trying to be set on a copy of a slice from a DataFrame\n",
      "\n",
      "See the caveats in the documentation: https://pandas.pydata.org/pandas-docs/stable/user_guide/indexing.html#returning-a-view-versus-a-copy\n",
      "  rain_na_rm.rename({\"Observation time UTC\": \"end\", \"Observation Start\": \"start\", \"Rainfall [mm]\": \"rain\", \"Cumulative Rainfall\": \"rain_cumulative\"}, axis=1, inplace=True)\n",
      "C:\\Users\\lenno\\AppData\\Local\\Temp\\ipykernel_13652\\3030993979.py:2: SettingWithCopyWarning: \n",
      "A value is trying to be set on a copy of a slice from a DataFrame\n",
      "\n",
      "See the caveats in the documentation: https://pandas.pydata.org/pandas-docs/stable/user_guide/indexing.html#returning-a-view-versus-a-copy\n",
      "  wind_na_rm.rename({\"Observation time UTC\": \"end\", \"Observation Start\": \"start\", \"Speed [m/s]\": \"speed\"}, axis=1, inplace=True)\n"
     ]
    }
   ],
   "execution_count": 206
  },
  {
   "metadata": {
    "ExecuteTime": {
     "end_time": "2025-09-01T23:37:11.951592Z",
     "start_time": "2025-09-01T23:37:11.934349Z"
    }
   },
   "cell_type": "code",
   "source": "rain_na_rm.head()",
   "id": "66fef5719c6c66f2",
   "outputs": [
    {
     "data": {
      "text/plain": [
       "                          end                     start  rain  rain_cumulative\n",
       "587 2016-07-30 06:00:00+00:00 2016-07-30 00:00:00+00:00   6.0           1251.8\n",
       "588 2016-07-30 12:00:00+00:00 2016-07-30 06:00:00+00:00   0.0           1251.8\n",
       "589 2016-07-30 18:00:00+00:00 2016-07-30 12:00:00+00:00   0.0           1251.8\n",
       "590 2016-07-31 00:00:00+00:00 2016-07-30 18:00:00+00:00   0.0           1251.8\n",
       "591 2016-07-31 06:00:00+00:00 2016-07-31 00:00:00+00:00   0.0           1251.8"
      ],
      "text/html": [
       "<div>\n",
       "<style scoped>\n",
       "    .dataframe tbody tr th:only-of-type {\n",
       "        vertical-align: middle;\n",
       "    }\n",
       "\n",
       "    .dataframe tbody tr th {\n",
       "        vertical-align: top;\n",
       "    }\n",
       "\n",
       "    .dataframe thead th {\n",
       "        text-align: right;\n",
       "    }\n",
       "</style>\n",
       "<table border=\"1\" class=\"dataframe\">\n",
       "  <thead>\n",
       "    <tr style=\"text-align: right;\">\n",
       "      <th></th>\n",
       "      <th>end</th>\n",
       "      <th>start</th>\n",
       "      <th>rain</th>\n",
       "      <th>rain_cumulative</th>\n",
       "    </tr>\n",
       "  </thead>\n",
       "  <tbody>\n",
       "    <tr>\n",
       "      <th>587</th>\n",
       "      <td>2016-07-30 06:00:00+00:00</td>\n",
       "      <td>2016-07-30 00:00:00+00:00</td>\n",
       "      <td>6.0</td>\n",
       "      <td>1251.8</td>\n",
       "    </tr>\n",
       "    <tr>\n",
       "      <th>588</th>\n",
       "      <td>2016-07-30 12:00:00+00:00</td>\n",
       "      <td>2016-07-30 06:00:00+00:00</td>\n",
       "      <td>0.0</td>\n",
       "      <td>1251.8</td>\n",
       "    </tr>\n",
       "    <tr>\n",
       "      <th>589</th>\n",
       "      <td>2016-07-30 18:00:00+00:00</td>\n",
       "      <td>2016-07-30 12:00:00+00:00</td>\n",
       "      <td>0.0</td>\n",
       "      <td>1251.8</td>\n",
       "    </tr>\n",
       "    <tr>\n",
       "      <th>590</th>\n",
       "      <td>2016-07-31 00:00:00+00:00</td>\n",
       "      <td>2016-07-30 18:00:00+00:00</td>\n",
       "      <td>0.0</td>\n",
       "      <td>1251.8</td>\n",
       "    </tr>\n",
       "    <tr>\n",
       "      <th>591</th>\n",
       "      <td>2016-07-31 06:00:00+00:00</td>\n",
       "      <td>2016-07-31 00:00:00+00:00</td>\n",
       "      <td>0.0</td>\n",
       "      <td>1251.8</td>\n",
       "    </tr>\n",
       "  </tbody>\n",
       "</table>\n",
       "</div>"
      ]
     },
     "execution_count": 207,
     "metadata": {},
     "output_type": "execute_result"
    }
   ],
   "execution_count": 207
  },
  {
   "metadata": {
    "ExecuteTime": {
     "end_time": "2025-09-01T23:37:12.105704Z",
     "start_time": "2025-09-01T23:37:12.098884Z"
    }
   },
   "cell_type": "code",
   "source": "data_start",
   "id": "2aa11b590979990e",
   "outputs": [
    {
     "data": {
      "text/plain": [
       "'2024-08-10T00:00:00.000+12:00'"
      ]
     },
     "execution_count": 208,
     "metadata": {},
     "output_type": "execute_result"
    }
   ],
   "execution_count": 208
  },
  {
   "metadata": {
    "ExecuteTime": {
     "end_time": "2025-09-01T23:37:12.170593Z",
     "start_time": "2025-09-01T23:37:12.163677Z"
    }
   },
   "cell_type": "code",
   "source": "datetime_format = \"%Y-%m-%dT%H:%M:%S.%f%z\"",
   "id": "ca14fb8e63690d29",
   "outputs": [],
   "execution_count": 209
  },
  {
   "metadata": {
    "ExecuteTime": {
     "end_time": "2025-09-01T23:37:12.321409Z",
     "start_time": "2025-09-01T23:37:12.304403Z"
    }
   },
   "cell_type": "code",
   "source": [
    "# filter the datasets to a time series which matches the energy dataset\n",
    "\n",
    "rain_final = rain_na_rm[\n",
    "    (rain_na_rm[\"start\"] >= datetime.fromisoformat(data_start)) &\n",
    "    (rain_na_rm[\"end\"]   <= datetime.fromisoformat(data_end))\n",
    "]\n",
    "\n",
    "wind_final = wind_na_rm[\n",
    "    (wind_na_rm[\"start\"] >= datetime.fromisoformat(data_start)) &\n",
    "    (wind_na_rm[\"end\"]   <= datetime.fromisoformat(data_end))\n",
    "]"
   ],
   "id": "f7d17e85f12038e9",
   "outputs": [],
   "execution_count": 210
  },
  {
   "metadata": {
    "ExecuteTime": {
     "end_time": "2025-09-01T23:37:12.340584Z",
     "start_time": "2025-09-01T23:37:12.321409Z"
    }
   },
   "cell_type": "code",
   "source": "wind_final.head()",
   "id": "be4870643fb2cb83",
   "outputs": [
    {
     "data": {
      "text/plain": [
       "                             end                     start  speed\n",
       "282483 2024-08-09 13:00:00+00:00 2024-08-09 12:00:00+00:00   14.3\n",
       "282484 2024-08-09 14:00:00+00:00 2024-08-09 13:00:00+00:00   14.0\n",
       "282485 2024-08-09 15:00:00+00:00 2024-08-09 14:00:00+00:00   13.4\n",
       "282486 2024-08-09 16:00:00+00:00 2024-08-09 15:00:00+00:00   12.2\n",
       "282487 2024-08-09 17:00:00+00:00 2024-08-09 16:00:00+00:00   12.0"
      ],
      "text/html": [
       "<div>\n",
       "<style scoped>\n",
       "    .dataframe tbody tr th:only-of-type {\n",
       "        vertical-align: middle;\n",
       "    }\n",
       "\n",
       "    .dataframe tbody tr th {\n",
       "        vertical-align: top;\n",
       "    }\n",
       "\n",
       "    .dataframe thead th {\n",
       "        text-align: right;\n",
       "    }\n",
       "</style>\n",
       "<table border=\"1\" class=\"dataframe\">\n",
       "  <thead>\n",
       "    <tr style=\"text-align: right;\">\n",
       "      <th></th>\n",
       "      <th>end</th>\n",
       "      <th>start</th>\n",
       "      <th>speed</th>\n",
       "    </tr>\n",
       "  </thead>\n",
       "  <tbody>\n",
       "    <tr>\n",
       "      <th>282483</th>\n",
       "      <td>2024-08-09 13:00:00+00:00</td>\n",
       "      <td>2024-08-09 12:00:00+00:00</td>\n",
       "      <td>14.3</td>\n",
       "    </tr>\n",
       "    <tr>\n",
       "      <th>282484</th>\n",
       "      <td>2024-08-09 14:00:00+00:00</td>\n",
       "      <td>2024-08-09 13:00:00+00:00</td>\n",
       "      <td>14.0</td>\n",
       "    </tr>\n",
       "    <tr>\n",
       "      <th>282485</th>\n",
       "      <td>2024-08-09 15:00:00+00:00</td>\n",
       "      <td>2024-08-09 14:00:00+00:00</td>\n",
       "      <td>13.4</td>\n",
       "    </tr>\n",
       "    <tr>\n",
       "      <th>282486</th>\n",
       "      <td>2024-08-09 16:00:00+00:00</td>\n",
       "      <td>2024-08-09 15:00:00+00:00</td>\n",
       "      <td>12.2</td>\n",
       "    </tr>\n",
       "    <tr>\n",
       "      <th>282487</th>\n",
       "      <td>2024-08-09 17:00:00+00:00</td>\n",
       "      <td>2024-08-09 16:00:00+00:00</td>\n",
       "      <td>12.0</td>\n",
       "    </tr>\n",
       "  </tbody>\n",
       "</table>\n",
       "</div>"
      ]
     },
     "execution_count": 211,
     "metadata": {},
     "output_type": "execute_result"
    }
   ],
   "execution_count": 211
  },
  {
   "metadata": {
    "ExecuteTime": {
     "end_time": "2025-09-01T23:37:12.747478Z",
     "start_time": "2025-09-01T23:37:12.540066Z"
    }
   },
   "cell_type": "code",
   "source": [
    "df_points = df_makara_1[[\"TradingPeriod\", \"DollarsPerMegawattHour\", \"time\"]].copy()\n",
    "df_points[\"time\"] = pd.to_datetime(df_points[\"time\"], utc=True)\n",
    "df_points = df_points.sort_values(\"time\")\n",
    "\n",
    "rain_intervals = rain_final[[\"start\", \"end\", \"rain\", \"rain_cumulative\"]].copy()\n",
    "rain_intervals[\"start\"] = pd.to_datetime(rain_intervals[\"start\"], utc=True)\n",
    "rain_intervals[\"end\"]   = pd.to_datetime(rain_intervals[\"end\"], utc=True)\n",
    "rain_intervals = rain_intervals.sort_values(\"start\")\n",
    "\n",
    "wind_intervals = wind_final[[\"start\", \"end\", \"speed\"]].copy()\n",
    "wind_intervals[\"start\"] = pd.to_datetime(wind_intervals[\"start\"], utc=True)\n",
    "wind_intervals[\"end\"]   = pd.to_datetime(wind_intervals[\"end\"], utc=True)\n",
    "wind_intervals = wind_intervals.sort_values(\"start\")\n",
    "\n",
    "# Merge rain using merge_asof (nearest previous start)\n",
    "df_points_rain = pd.merge_asof(\n",
    "    df_points,\n",
    "    rain_intervals,\n",
    "    left_on=\"time\",\n",
    "    right_on=\"start\",\n",
    "    direction=\"backward\",\n",
    ")\n",
    "\n",
    "# Keep only points within interval\n",
    "df_points_rain = df_points_rain[df_points_rain[\"time\"] <= df_points_rain[\"end\"]].copy()\n",
    "\n",
    "# Merge wind similarly\n",
    "df_final = pd.merge_asof(\n",
    "    df_points_rain.sort_values(\"time\"),\n",
    "    wind_intervals.sort_values(\"start\"),\n",
    "    left_on=\"time\",\n",
    "    right_on=\"start\",\n",
    "    direction=\"backward\",\n",
    "    suffixes=('_rain', '_wind')\n",
    ")\n"
   ],
   "id": "f3b32be9e5aa1ced",
   "outputs": [],
   "execution_count": 212
  },
  {
   "metadata": {
    "ExecuteTime": {
     "end_time": "2025-09-01T23:37:15.350787Z",
     "start_time": "2025-09-01T23:37:15.345808Z"
    }
   },
   "cell_type": "code",
   "source": "len(df_final)",
   "id": "3946288540b6acd2",
   "outputs": [
    {
     "data": {
      "text/plain": [
       "104374"
      ]
     },
     "execution_count": 213,
     "metadata": {},
     "output_type": "execute_result"
    }
   ],
   "execution_count": 213
  },
  {
   "metadata": {
    "ExecuteTime": {
     "end_time": "2025-09-01T23:37:15.406422Z",
     "start_time": "2025-09-01T23:37:15.380401Z"
    }
   },
   "cell_type": "code",
   "source": "df_with_wind.head()",
   "id": "16ad8a46bab346cc",
   "outputs": [
    {
     "data": {
      "text/plain": [
       "  TradingDate  TradingPeriod                PublishDateTime PointOfConnection  \\\n",
       "0  2024-09-06              1  2024-09-06T00:00:00.000+12:00           WWD1102   \n",
       "1  2024-09-26             13  2024-09-26T06:00:00.000+12:00           WWD1102   \n",
       "2  2024-11-18             25  2024-11-18T12:00:00.000+13:00           WWD1102   \n",
       "3  2024-12-05             13  2024-12-05T06:00:00.000+13:00           WWD1102   \n",
       "4  2024-12-28             25  2024-12-28T12:00:00.000+13:00           WWD1102   \n",
       "\n",
       "  Island IsProxyPriceFlag  DollarsPerMegawattHour                      time  \\\n",
       "0     NI                N                   15.28 2024-09-05 12:00:00+00:00   \n",
       "1     NI                N                    0.02 2024-09-25 18:00:00+00:00   \n",
       "2     NI                N                   15.65 2024-11-17 23:00:00+00:00   \n",
       "3     NI                N                    0.73 2024-12-04 17:00:00+00:00   \n",
       "4     NI                N                    0.02 2024-12-27 23:00:00+00:00   \n",
       "\n",
       "                      end_x                   start_x  rain  rain_cumulative  \\\n",
       "0 2024-09-05 12:00:00+00:00 2024-09-05 06:00:00+00:00   0.0            944.2   \n",
       "1 2024-09-25 18:00:00+00:00 2024-09-25 12:00:00+00:00   0.8           1009.0   \n",
       "2 2024-11-17 23:00:00+00:00 2024-11-17 17:00:00+00:00   0.0           1386.0   \n",
       "3 2024-12-04 17:00:00+00:00 2024-12-04 11:00:00+00:00   0.4           1342.4   \n",
       "4 2024-12-27 23:00:00+00:00 2024-12-27 17:00:00+00:00   0.0           1412.6   \n",
       "\n",
       "                      end_y                   start_y  speed  \n",
       "0 2024-09-05 12:00:00+00:00 2024-09-05 11:00:00+00:00   6.87  \n",
       "1 2024-09-25 18:00:00+00:00 2024-09-25 17:00:00+00:00  11.76  \n",
       "2 2024-11-17 23:00:00+00:00 2024-11-17 22:00:00+00:00   2.53  \n",
       "3 2024-12-04 17:00:00+00:00 2024-12-04 16:00:00+00:00  14.08  \n",
       "4 2024-12-27 23:00:00+00:00 2024-12-27 22:00:00+00:00   7.32  "
      ],
      "text/html": [
       "<div>\n",
       "<style scoped>\n",
       "    .dataframe tbody tr th:only-of-type {\n",
       "        vertical-align: middle;\n",
       "    }\n",
       "\n",
       "    .dataframe tbody tr th {\n",
       "        vertical-align: top;\n",
       "    }\n",
       "\n",
       "    .dataframe thead th {\n",
       "        text-align: right;\n",
       "    }\n",
       "</style>\n",
       "<table border=\"1\" class=\"dataframe\">\n",
       "  <thead>\n",
       "    <tr style=\"text-align: right;\">\n",
       "      <th></th>\n",
       "      <th>TradingDate</th>\n",
       "      <th>TradingPeriod</th>\n",
       "      <th>PublishDateTime</th>\n",
       "      <th>PointOfConnection</th>\n",
       "      <th>Island</th>\n",
       "      <th>IsProxyPriceFlag</th>\n",
       "      <th>DollarsPerMegawattHour</th>\n",
       "      <th>time</th>\n",
       "      <th>end_x</th>\n",
       "      <th>start_x</th>\n",
       "      <th>rain</th>\n",
       "      <th>rain_cumulative</th>\n",
       "      <th>end_y</th>\n",
       "      <th>start_y</th>\n",
       "      <th>speed</th>\n",
       "    </tr>\n",
       "  </thead>\n",
       "  <tbody>\n",
       "    <tr>\n",
       "      <th>0</th>\n",
       "      <td>2024-09-06</td>\n",
       "      <td>1</td>\n",
       "      <td>2024-09-06T00:00:00.000+12:00</td>\n",
       "      <td>WWD1102</td>\n",
       "      <td>NI</td>\n",
       "      <td>N</td>\n",
       "      <td>15.28</td>\n",
       "      <td>2024-09-05 12:00:00+00:00</td>\n",
       "      <td>2024-09-05 12:00:00+00:00</td>\n",
       "      <td>2024-09-05 06:00:00+00:00</td>\n",
       "      <td>0.0</td>\n",
       "      <td>944.2</td>\n",
       "      <td>2024-09-05 12:00:00+00:00</td>\n",
       "      <td>2024-09-05 11:00:00+00:00</td>\n",
       "      <td>6.87</td>\n",
       "    </tr>\n",
       "    <tr>\n",
       "      <th>1</th>\n",
       "      <td>2024-09-26</td>\n",
       "      <td>13</td>\n",
       "      <td>2024-09-26T06:00:00.000+12:00</td>\n",
       "      <td>WWD1102</td>\n",
       "      <td>NI</td>\n",
       "      <td>N</td>\n",
       "      <td>0.02</td>\n",
       "      <td>2024-09-25 18:00:00+00:00</td>\n",
       "      <td>2024-09-25 18:00:00+00:00</td>\n",
       "      <td>2024-09-25 12:00:00+00:00</td>\n",
       "      <td>0.8</td>\n",
       "      <td>1009.0</td>\n",
       "      <td>2024-09-25 18:00:00+00:00</td>\n",
       "      <td>2024-09-25 17:00:00+00:00</td>\n",
       "      <td>11.76</td>\n",
       "    </tr>\n",
       "    <tr>\n",
       "      <th>2</th>\n",
       "      <td>2024-11-18</td>\n",
       "      <td>25</td>\n",
       "      <td>2024-11-18T12:00:00.000+13:00</td>\n",
       "      <td>WWD1102</td>\n",
       "      <td>NI</td>\n",
       "      <td>N</td>\n",
       "      <td>15.65</td>\n",
       "      <td>2024-11-17 23:00:00+00:00</td>\n",
       "      <td>2024-11-17 23:00:00+00:00</td>\n",
       "      <td>2024-11-17 17:00:00+00:00</td>\n",
       "      <td>0.0</td>\n",
       "      <td>1386.0</td>\n",
       "      <td>2024-11-17 23:00:00+00:00</td>\n",
       "      <td>2024-11-17 22:00:00+00:00</td>\n",
       "      <td>2.53</td>\n",
       "    </tr>\n",
       "    <tr>\n",
       "      <th>3</th>\n",
       "      <td>2024-12-05</td>\n",
       "      <td>13</td>\n",
       "      <td>2024-12-05T06:00:00.000+13:00</td>\n",
       "      <td>WWD1102</td>\n",
       "      <td>NI</td>\n",
       "      <td>N</td>\n",
       "      <td>0.73</td>\n",
       "      <td>2024-12-04 17:00:00+00:00</td>\n",
       "      <td>2024-12-04 17:00:00+00:00</td>\n",
       "      <td>2024-12-04 11:00:00+00:00</td>\n",
       "      <td>0.4</td>\n",
       "      <td>1342.4</td>\n",
       "      <td>2024-12-04 17:00:00+00:00</td>\n",
       "      <td>2024-12-04 16:00:00+00:00</td>\n",
       "      <td>14.08</td>\n",
       "    </tr>\n",
       "    <tr>\n",
       "      <th>4</th>\n",
       "      <td>2024-12-28</td>\n",
       "      <td>25</td>\n",
       "      <td>2024-12-28T12:00:00.000+13:00</td>\n",
       "      <td>WWD1102</td>\n",
       "      <td>NI</td>\n",
       "      <td>N</td>\n",
       "      <td>0.02</td>\n",
       "      <td>2024-12-27 23:00:00+00:00</td>\n",
       "      <td>2024-12-27 23:00:00+00:00</td>\n",
       "      <td>2024-12-27 17:00:00+00:00</td>\n",
       "      <td>0.0</td>\n",
       "      <td>1412.6</td>\n",
       "      <td>2024-12-27 23:00:00+00:00</td>\n",
       "      <td>2024-12-27 22:00:00+00:00</td>\n",
       "      <td>7.32</td>\n",
       "    </tr>\n",
       "  </tbody>\n",
       "</table>\n",
       "</div>"
      ]
     },
     "execution_count": 214,
     "metadata": {},
     "output_type": "execute_result"
    }
   ],
   "execution_count": 214
  },
  {
   "metadata": {},
   "cell_type": "markdown",
   "source": "Plot the entire time series to check for outliers, seasonality etc.",
   "id": "ffb24e8136b0b975"
  },
  {
   "metadata": {
    "ExecuteTime": {
     "end_time": "2025-09-01T23:37:17.862225Z",
     "start_time": "2025-09-01T23:37:15.518319Z"
    }
   },
   "cell_type": "code",
   "source": [
    "fig, axes = plt.subplots(2, 1, figsize=(10,10))\n",
    "\n",
    "axes[0].plot(df_makara_1[\"time\"], df_makara_1[\"DollarsPerMegawattHour\"])\n",
    "axes[0].set_title(\"Point of Connection WWD1102\")\n",
    "axes[0].set_xlabel(\"Date\")\n",
    "axes[0].set_ylabel(\"Dollars per Megawatt Hour\")\n",
    "\n",
    "axes[1].plot(df_makara_2[\"time\"], df_makara_2[\"DollarsPerMegawattHour\"])\n",
    "axes[1].set_title(\"Point of Connection WWD1103\")\n",
    "axes[1].set_xlabel(\"Date\")\n",
    "axes[1].set_ylabel(\"Dollars per Megawatt Hour\")\n",
    "\n",
    "plt.show()"
   ],
   "id": "2b32fe210fa0102d",
   "outputs": [
    {
     "data": {
      "text/plain": [
       "<Figure size 1000x1000 with 2 Axes>"
      ],
      "image/png": "[encoded data removed]"
     },
     "metadata": {},
     "output_type": "display_data"
    }
   ],
   "execution_count": 215
  },
  {
   "metadata": {},
   "cell_type": "markdown",
   "source": "It appears that both connection points have the same pricing information, so we will continue the analysis looking at just WWD1102.",
   "id": "d11f3e0ca2519b61"
  },
  {
   "metadata": {
    "ExecuteTime": {
     "end_time": "2025-09-01T23:37:17.945871Z",
     "start_time": "2025-09-01T23:37:17.890506Z"
    }
   },
   "cell_type": "code",
   "source": "df = df_raw[df_raw[\"PointOfConnection\"] == \"WWD1102\"]",
   "id": "a30e3ffb2381dda7",
   "outputs": [],
   "execution_count": 216
  },
  {
   "metadata": {},
   "cell_type": "markdown",
   "source": "The previous charts didn't show much detail.",
   "id": "7f2a349cc6f1735e"
  },
  {
   "metadata": {
    "ExecuteTime": {
     "end_time": "2025-09-01T23:37:18.059393Z",
     "start_time": "2025-09-01T23:37:18.051391Z"
    }
   },
   "cell_type": "code",
   "source": [
    "df_zoomed = df[\n",
    "      (df[\"time\"] >= pd.Timestamp(datetime(2025, 7, 1, tzinfo = pytz.utc)))\n",
    "    & (df[\"time\"] <= pd.Timestamp(datetime(2025, 7, 5, tzinfo = pytz.utc)))\n",
    "]"
   ],
   "id": "3f4bb43d5e581f3e",
   "outputs": [],
   "execution_count": 217
  },
  {
   "metadata": {
    "ExecuteTime": {
     "end_time": "2025-09-01T23:37:23.668308Z",
     "start_time": "2025-09-01T23:37:18.066854Z"
    }
   },
   "cell_type": "code",
   "source": [
    "plt.plot(df_zoomed[\"PublishDateTime\"], df_zoomed[\"DollarsPerMegawattHour\"])\n",
    "plt.title(\"Five days, WWD1102\")"
   ],
   "id": "1f3e7574d816bf89",
   "outputs": [
    {
     "data": {
      "text/plain": [
       "Text(0.5, 1.0, 'Five days, WWD1102')"
      ]
     },
     "execution_count": 218,
     "metadata": {},
     "output_type": "execute_result"
    },
    {
     "data": {
      "text/plain": [
       "<Figure size 640x480 with 1 Axes>"
      ],
      "image/png": "[encoded data removed]"
     },
     "metadata": {},
     "output_type": "display_data"
    }
   ],
   "execution_count": 218
  },
  {
   "metadata": {},
   "cell_type": "markdown",
   "source": [
    "## Split into a train and test set\n",
    "\n",
    "## Cross-validation - TimeSeriesSplit\n",
    "\n",
    "To avoid data leakage, we should split into train and test sets before doing any more EDA. When dealing with time series data, we cannot train on future observations (otherwise the test accuracy would be biased). SKLearn provides the function `TimeSeriesSplit` to perform a 'rolling window evaluation'. This is essentially time-based cross validation. Rolling window evaluation differs from sliding window evaluation, which increments the training set forward by one observation each window - evaluating every subset of train/test data. This is only appropriate for small datasets as it gets computationally expensive on large datasets.\n",
    "\n",
    "Strategy:\n",
    "- Get two years worth of data\n",
    "- Perform EDA on the first year\n",
    "- Do a cross validation TimeSeriesSplit\n",
    "\n"
   ],
   "id": "156394be060feced"
  },
  {
   "metadata": {
    "ExecuteTime": {
     "end_time": "2025-09-01T23:37:23.760358Z",
     "start_time": "2025-09-01T23:37:23.721700Z"
    }
   },
   "cell_type": "code",
   "source": [
    "# first six months\n",
    "df_train = df_raw[(df_raw[\"time\"] < pd.Timestamp(datetime(2025, 8, 1, tzinfo = pytz.utc)))]\n",
    "\n",
    "# second six months\n",
    "df_test = df_raw[(df_raw[\"time\"] >= pd.Timestamp(datetime(2025, 8, 1, tzinfo = pytz.utc)))]\n",
    "\n",
    "# split across a fixed training window (i.e. 365 days) and evaluate performance on the next month\n",
    "# this simulates an environment where models are continuously trained on the past 1 year of data.\n",
    "\n",
    "from sklearn.model_selection import TimeSeriesSplit\n"
   ],
   "id": "7cfee5eb630d4503",
   "outputs": [],
   "execution_count": 219
  },
  {
   "metadata": {},
   "cell_type": "markdown",
   "source": "This chart of five days worth of pricing data shows that wholesale electricity price is very dynamic, ranging from \\\\$0 to over \\\\$300 per MWH. There also isn't a simple seasonal pattern. It is interesting that the price will sometimes go to $0 - I am unsure if this is an error in the dataset, or where electricity is surplus to demand and therefore the price drops to 0.",
   "id": "86bdeabf506a06be"
  },
  {
   "metadata": {},
   "cell_type": "markdown",
   "source": [
    "## Augmented Dickey-Fuller (ADF) test for Stationary time series\n",
    "\n",
    "An ARIMA model will only work with a stationary time series.\n",
    "\n",
    "- A stationary time series has constant statistical properties over time.\n",
    "- The ADF test checks for a unit root. A unit root is characteristic of non-stationary data.\n",
    "- A 'unit root' would mean that a shock to the series has a permanent effect (i.e. the series would drift over time and not revert to the mean. This is not characteristic of stationary data...).\n",
    "- A small p-value would indicate a stationary time series.\n",
    "- To apply an ARIMA model, the time series should be differenced until the time series is stationary."
   ],
   "id": "6b8f1ebd2b589472"
  },
  {
   "metadata": {
    "ExecuteTime": {
     "end_time": "2025-09-01T23:37:23.815273Z",
     "start_time": "2025-09-01T23:37:23.810272Z"
    }
   },
   "cell_type": "code",
   "source": "from statsmodels.tsa.stattools import adfuller",
   "id": "555cb093c964ee7a",
   "outputs": [],
   "execution_count": 220
  },
  {
   "metadata": {
    "jupyter": {
     "is_executing": true
    },
    "ExecuteTime": {
     "start_time": "2025-09-01T23:37:23.870397Z"
    }
   },
   "cell_type": "code",
   "source": "adf_test = adfuller(df_train[\"DollarsPerMegawattHour\"])",
   "id": "dad6c1975d12cf9e",
   "outputs": [],
   "execution_count": null
  },
  {
   "metadata": {
    "ExecuteTime": {
     "end_time": "2025-09-01T21:40:36.505333200Z",
     "start_time": "2025-09-01T21:07:54.648860Z"
    }
   },
   "cell_type": "code",
   "source": [
    "# find the p-value\n",
    "adf_test[1]"
   ],
   "id": "4c296676363f4b90",
   "outputs": [
    {
     "data": {
      "text/plain": [
       "np.float64(2.2935898207003092e-26)"
      ]
     },
     "execution_count": 86,
     "metadata": {},
     "output_type": "execute_result"
    }
   ],
   "execution_count": 86
  },
  {
   "metadata": {},
   "cell_type": "markdown",
   "source": "The p-value is very small, so we can reject the null hypothesis (the series has a unit root) and claim that the time series is stationary without differencing.",
   "id": "34ef5f1cde44ee80"
  },
  {
   "metadata": {
    "ExecuteTime": {
     "end_time": "2025-09-01T21:40:36.505333200Z",
     "start_time": "2025-09-01T21:07:54.660475Z"
    }
   },
   "cell_type": "code",
   "source": "",
   "id": "822b1b0fa797cd38",
   "outputs": [],
   "execution_count": null
  }
 ],
 "metadata": {
  "kernelspec": {
   "display_name": "Python 3",
   "language": "python",
   "name": "python3"
  },
  "language_info": {
   "codemirror_mode": {
    "name": "ipython",
    "version": 2
   },
   "file_extension": ".py",
   "mimetype": "text/x-python",
   "name": "python",
   "nbconvert_exporter": "python",
   "pygments_lexer": "ipython2",
   "version": "2.7.6"
  }
 },
 "nbformat": 4,
 "nbformat_minor": 5
}
